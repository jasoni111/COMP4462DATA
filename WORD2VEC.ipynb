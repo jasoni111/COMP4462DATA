{
 "cells": [
  {
   "cell_type": "code",
   "execution_count": 3,
   "metadata": {},
   "outputs": [],
   "source": [
    "from nltk.tokenize import sent_tokenize, word_tokenize \n",
    "   \n",
    "import gensim \n",
    "from gensim.models import Word2Vec \n",
    "import csv\n",
    "import numpy as np\n",
    "import re\n",
    "import string"
   ]
  },
  {
   "cell_type": "code",
   "execution_count": 65,
   "metadata": {},
   "outputs": [
    {
     "name": "stderr",
     "output_type": "stream",
     "text": [
      "/home/jasoni111/anaconda3/envs/comp4462/lib/python3.6/site-packages/IPython/core/interactiveshell.py:3049: DtypeWarning: Columns (7,11,12,13,14) have mixed types. Specify dtype option on import or set low_memory=False.\n",
      "  interactivity=interactivity, compiler=compiler, result=result)\n"
     ]
    },
    {
     "data": {
      "text/html": [
       "<div>\n",
       "<style scoped>\n",
       "    .dataframe tbody tr th:only-of-type {\n",
       "        vertical-align: middle;\n",
       "    }\n",
       "\n",
       "    .dataframe tbody tr th {\n",
       "        vertical-align: top;\n",
       "    }\n",
       "\n",
       "    .dataframe thead th {\n",
       "        text-align: right;\n",
       "    }\n",
       "</style>\n",
       "<table border=\"1\" class=\"dataframe\">\n",
       "  <thead>\n",
       "    <tr style=\"text-align: right;\">\n",
       "      <th></th>\n",
       "      <th>body</th>\n",
       "      <th>score_hidden</th>\n",
       "      <th>archived</th>\n",
       "      <th>name</th>\n",
       "      <th>author</th>\n",
       "      <th>author_flair_text</th>\n",
       "      <th>downs</th>\n",
       "      <th>created_utc</th>\n",
       "      <th>subreddit_id</th>\n",
       "      <th>link_id</th>\n",
       "      <th>...</th>\n",
       "      <th>score</th>\n",
       "      <th>retrieved_on</th>\n",
       "      <th>controversiality</th>\n",
       "      <th>gilded</th>\n",
       "      <th>id</th>\n",
       "      <th>subreddit</th>\n",
       "      <th>ups</th>\n",
       "      <th>distinguished</th>\n",
       "      <th>author_flair_css_class</th>\n",
       "      <th>emotion</th>\n",
       "    </tr>\n",
       "  </thead>\n",
       "  <tbody>\n",
       "    <tr>\n",
       "      <th>0</th>\n",
       "      <td>It’s already in secret mage lists to counter t...</td>\n",
       "      <td></td>\n",
       "      <td></td>\n",
       "      <td></td>\n",
       "      <td>PanRagon</td>\n",
       "      <td></td>\n",
       "      <td></td>\n",
       "      <td>1517702430</td>\n",
       "      <td>t5_2w31t</td>\n",
       "      <td>t3_7v2v5f</td>\n",
       "      <td>...</td>\n",
       "      <td>1</td>\n",
       "      <td>1518902732</td>\n",
       "      <td>0</td>\n",
       "      <td>0</td>\n",
       "      <td>dtp4c5r</td>\n",
       "      <td>hearthstone</td>\n",
       "      <td></td>\n",
       "      <td></td>\n",
       "      <td>finja</td>\n",
       "      <td>neutral</td>\n",
       "    </tr>\n",
       "    <tr>\n",
       "      <th>1</th>\n",
       "      <td>Yeah, that’ll do it.</td>\n",
       "      <td></td>\n",
       "      <td></td>\n",
       "      <td></td>\n",
       "      <td>PanRagon</td>\n",
       "      <td></td>\n",
       "      <td></td>\n",
       "      <td>1517702468</td>\n",
       "      <td>t5_2w31t</td>\n",
       "      <td>t3_7v2uo0</td>\n",
       "      <td>...</td>\n",
       "      <td>2</td>\n",
       "      <td>1518902745</td>\n",
       "      <td>0</td>\n",
       "      <td>0</td>\n",
       "      <td>dtp4d7b</td>\n",
       "      <td>hearthstone</td>\n",
       "      <td></td>\n",
       "      <td></td>\n",
       "      <td>finja</td>\n",
       "      <td>neutral</td>\n",
       "    </tr>\n",
       "    <tr>\n",
       "      <th>2</th>\n",
       "      <td>This is not even remotely true. They deduct th...</td>\n",
       "      <td></td>\n",
       "      <td></td>\n",
       "      <td></td>\n",
       "      <td>zegota</td>\n",
       "      <td></td>\n",
       "      <td></td>\n",
       "      <td>1517702578</td>\n",
       "      <td>t5_2w31t</td>\n",
       "      <td>t3_7uzx6f</td>\n",
       "      <td>...</td>\n",
       "      <td>2</td>\n",
       "      <td>1518902786</td>\n",
       "      <td>0</td>\n",
       "      <td>0</td>\n",
       "      <td>dtp4gah</td>\n",
       "      <td>hearthstone</td>\n",
       "      <td></td>\n",
       "      <td></td>\n",
       "      <td>tyrande</td>\n",
       "      <td>sad</td>\n",
       "    </tr>\n",
       "    <tr>\n",
       "      <th>3</th>\n",
       "      <td>As this is a zoo deck there is no need for def...</td>\n",
       "      <td></td>\n",
       "      <td></td>\n",
       "      <td></td>\n",
       "      <td>Sympxthyy</td>\n",
       "      <td></td>\n",
       "      <td></td>\n",
       "      <td>1517702620</td>\n",
       "      <td>t5_2w31t</td>\n",
       "      <td>t3_7v3612</td>\n",
       "      <td>...</td>\n",
       "      <td>15</td>\n",
       "      <td>1518902801</td>\n",
       "      <td>0</td>\n",
       "      <td>0</td>\n",
       "      <td>dtp4hg4</td>\n",
       "      <td>hearthstone</td>\n",
       "      <td></td>\n",
       "      <td></td>\n",
       "      <td>morgl</td>\n",
       "      <td>neutral</td>\n",
       "    </tr>\n",
       "    <tr>\n",
       "      <th>4</th>\n",
       "      <td>DONE\\n\\nMillhouse#1205\\n\\ntrading 80g quest NA...</td>\n",
       "      <td></td>\n",
       "      <td></td>\n",
       "      <td></td>\n",
       "      <td>allcivins</td>\n",
       "      <td></td>\n",
       "      <td></td>\n",
       "      <td>1517702629</td>\n",
       "      <td>t5_2w31t</td>\n",
       "      <td>t3_7ut37a</td>\n",
       "      <td>...</td>\n",
       "      <td>1</td>\n",
       "      <td>1518902804</td>\n",
       "      <td>0</td>\n",
       "      <td>0</td>\n",
       "      <td>dtp4hp3</td>\n",
       "      <td>hearthstone</td>\n",
       "      <td></td>\n",
       "      <td></td>\n",
       "      <td>millhau5</td>\n",
       "      <td>neutral</td>\n",
       "    </tr>\n",
       "  </tbody>\n",
       "</table>\n",
       "<p>5 rows × 21 columns</p>\n",
       "</div>"
      ],
      "text/plain": [
       "                                                body score_hidden archived  \\\n",
       "0  It’s already in secret mage lists to counter t...                         \n",
       "1                               Yeah, that’ll do it.                         \n",
       "2  This is not even remotely true. They deduct th...                         \n",
       "3  As this is a zoo deck there is no need for def...                         \n",
       "4  DONE\\n\\nMillhouse#1205\\n\\ntrading 80g quest NA...                         \n",
       "\n",
       "  name     author author_flair_text downs created_utc subreddit_id    link_id  \\\n",
       "0        PanRagon                          1517702430     t5_2w31t  t3_7v2v5f   \n",
       "1        PanRagon                          1517702468     t5_2w31t  t3_7v2uo0   \n",
       "2          zegota                          1517702578     t5_2w31t  t3_7uzx6f   \n",
       "3       Sympxthyy                          1517702620     t5_2w31t  t3_7v3612   \n",
       "4       allcivins                          1517702629     t5_2w31t  t3_7ut37a   \n",
       "\n",
       "    ...    score retrieved_on controversiality gilded       id    subreddit  \\\n",
       "0   ...        1   1518902732                0      0  dtp4c5r  hearthstone   \n",
       "1   ...        2   1518902745                0      0  dtp4d7b  hearthstone   \n",
       "2   ...        2   1518902786                0      0  dtp4gah  hearthstone   \n",
       "3   ...       15   1518902801                0      0  dtp4hg4  hearthstone   \n",
       "4   ...        1   1518902804                0      0  dtp4hp3  hearthstone   \n",
       "\n",
       "  ups distinguished author_flair_css_class  emotion  \n",
       "0                                    finja  neutral  \n",
       "1                                    finja  neutral  \n",
       "2                                  tyrande      sad  \n",
       "3                                    morgl  neutral  \n",
       "4                                 millhau5  neutral  \n",
       "\n",
       "[5 rows x 21 columns]"
      ]
     },
     "execution_count": 65,
     "metadata": {},
     "output_type": "execute_result"
    }
   ],
   "source": [
    "import pandas as pd\n",
    "cereal_df = pd.read_csv(\"/home/jasoni111/Desktop/comp4462/my_data/realData/hearthstone_201802.csv\", keep_default_na=False)\n",
    "cereal_df.head()"
   ]
  },
  {
   "cell_type": "code",
   "execution_count": 66,
   "metadata": {},
   "outputs": [
    {
     "name": "stdout",
     "output_type": "stream",
     "text": [
      "['alreadi', 'secret', 'mage', 'list', 'counter', 'warlock', 'although', 'im', 'sure', 'better', 'ice', 'block', 'sinc', 'alreadi', 'beat', 'lock', 'yet', 'get', 'roll', 'aggro', 'definit', 'power', 'card', 'lock', 'imagin', 'ill', 'play', 'patchalso', 'archivist', 'onli', 'play', 'spite', 'priest', 'isnt', 'veri', 'good', 'deck', 'doe', 'veri', 'high', 'playrat', 'rank', 'tech', 'ladder', 'doesnt', 'seem', 'good']\n"
     ]
    }
   ],
   "source": [
    "from nltk.stem import PorterStemmer\n",
    "from nltk.tokenize import sent_tokenize, word_tokenize\n",
    "from nltk.corpus import stopwords\n",
    "stopWords = set(stopwords.words('english'))\n",
    "\n",
    "ps = PorterStemmer()\n",
    "\n",
    "\n",
    "data=[]\n",
    "for index, row in cereal_df.iterrows():\n",
    "    if row['body']!=\"\":\n",
    "        temp=[]\n",
    "        sentence=\"\"\n",
    "        for word in row['body']:\n",
    "            if (word.isalpha() or word==' '):\n",
    "                sentence+=word \n",
    "                \n",
    "        words = re.sub(r'\\d+', '', sentence)\n",
    "        for word in word_tokenize(words):\n",
    "            _word=ps.stem(word.lower())\n",
    "            if _word not in stopWords:\n",
    "                temp.append(_word)\n",
    "        data.append(temp)\n",
    "print(data[0])\n",
    "            \n",
    "#             sentence=sentence+\" \"+ps.stem(word)\n",
    "        \n",
    "#         sentence = re.sub(r'\\d+', '', sentence)\n",
    "#         words=\"\"\n",
    "#         for word in sentence:\n",
    "#              if (word.isalpha() or word==' '):\n",
    "#                 words+=word \n",
    "#         data+=[words]"
   ]
  },
  {
   "cell_type": "code",
   "execution_count": 87,
   "metadata": {},
   "outputs": [],
   "source": [
    "\n",
    "model2 = gensim.models.Word2Vec(data, min_count = 5, size = 100, \n",
    "                                             window = 5, sg = 2) \n",
    "  \n",
    "# # Print results \n",
    "# print(\"Cosine similarity between 'alice' \" +\n",
    "#           \"and 'wonderland' - Skip Gram : \", \n",
    "#     model2.similarity('alice', 'wonderland')) \n",
    "      \n",
    "# print(\"Cosine similarity between 'alice' \" +\n",
    "#             \"and 'machines' - Skip Gram : \", \n",
    "#       model2.similarity('alice', 'machines')) \n"
   ]
  },
  {
   "cell_type": "code",
   "execution_count": 68,
   "metadata": {},
   "outputs": [
    {
     "data": {
      "text/plain": [
       "'rogu'"
      ]
     },
     "execution_count": 68,
     "metadata": {},
     "output_type": "execute_result"
    }
   ],
   "source": [
    "ps.stem(\"rogue\")"
   ]
  },
  {
   "cell_type": "code",
   "execution_count": 69,
   "metadata": {},
   "outputs": [],
   "source": [
    "tag_list = model1.wv.index2entity"
   ]
  },
  {
   "cell_type": "code",
   "execution_count": 70,
   "metadata": {},
   "outputs": [
    {
     "name": "stdout",
     "output_type": "stream",
     "text": [
      "['card', 'deck', 'play', 'thi', 'wa', 'get', 'like', 'game', 'dont', 'one', 'would', 'becaus', 'think', 'make', 'good', 'onli', 'ha', 'time', 'im', 'even', 'peopl', 'go', 'use', 'realli', 'turn', 'win', 'minion', 'mana', 'still', 'pack', 'want', 'also', 'ani', 'see', 'much', 'player', 'priest', 'know', 'need', 'way', 'x', 'dust', 'say', 'wild', 'well', 'quest', 'could', 'doesnt', 'mage', 'got', 'thing', 'run', 'actual', 'whi', 'hearthston', 'new', 'tri', 'everi', 'delet', 'lot', 'first', 'control', 'blizzard', 'right', 'pretti', 'mean', 'legendari', 'rank', 'look', 'cant', 'post', 'someth', 'spell', 'veri', 'give', 'work', 'remov', 'better', 'nerf', 'bad', 'warlock', 'draw', 'sinc', 'never', 'befor', 'isnt', 'rogu', 'meta', 'hi', 'though', 'probabl', 'class', 'oppon', 'fun', 'year', 'take', 'didnt', 'board', 'aggro', 'sure']\n"
     ]
    }
   ],
   "source": [
    "print(tag_list[:100])"
   ]
  },
  {
   "cell_type": "code",
   "execution_count": 71,
   "metadata": {},
   "outputs": [
    {
     "data": {
      "text/plain": [
       "[('preist', 0.6551793813705444),\n",
       " ('razaku', 0.6113016605377197),\n",
       " ('cubelock', 0.5977717041969299),\n",
       " ('anduin', 0.5631822347640991),\n",
       " ('warlock', 0.5530596971511841),\n",
       " ('highland', 0.5412787199020386),\n",
       " ('summonerhttpsmediahearthcursecdncomavatarspng', 0.5399256348609924),\n",
       " ('reno', 0.5372314453125),\n",
       " ('otk', 0.5297221541404724),\n",
       " ('mage', 0.5223547220230103)]"
      ]
     },
     "execution_count": 71,
     "metadata": {},
     "output_type": "execute_result"
    }
   ],
   "source": [
    "model1.wv.most_similar(positive=ps.stem(\"priest\"))"
   ]
  },
  {
   "cell_type": "code",
   "execution_count": 72,
   "metadata": {},
   "outputs": [
    {
     "data": {
      "text/plain": [
       "[('preist', 0.8275889158248901),\n",
       " ('razaku', 0.8056500554084778),\n",
       " ('cubelock', 0.7988850474357605),\n",
       " ('anduin', 0.7815903425216675),\n",
       " ('warlock', 0.7765291333198547),\n",
       " ('highland', 0.770638644695282),\n",
       " ('summonerhttpsmediahearthcursecdncomavatarspng', 0.7699620723724365),\n",
       " ('reno', 0.7686150074005127),\n",
       " ('otk', 0.7648603916168213),\n",
       " ('mage', 0.7611766457557678)]"
      ]
     },
     "execution_count": 72,
     "metadata": {},
     "output_type": "execute_result"
    }
   ],
   "source": [
    "model1.wv.most_similar_cosmul(positive=ps.stem(\"priest\"))\n",
    "# most_similar_cosmul"
   ]
  },
  {
   "cell_type": "code",
   "execution_count": 90,
   "metadata": {},
   "outputs": [
    {
     "data": {
      "text/plain": [
       "[('preist', 0.8123872876167297),\n",
       " ('priesti', 0.7626041173934937),\n",
       " ('highland', 0.7491984367370605),\n",
       " ('highrolli', 0.723438024520874),\n",
       " ('satellit', 0.7206898927688599),\n",
       " ('thief', 0.71247798204422),\n",
       " ('razaku', 0.7081574201583862),\n",
       " ('bigspel', 0.7037677764892578),\n",
       " ('entomb', 0.7013910412788391),\n",
       " ('nuke', 0.6994820237159729)]"
      ]
     },
     "execution_count": 90,
     "metadata": {},
     "output_type": "execute_result"
    }
   ],
   "source": [
    "model2.wv.most_similar(positive=ps.stem(\"priest\"))"
   ]
  },
  {
   "cell_type": "code",
   "execution_count": 91,
   "metadata": {},
   "outputs": [
    {
     "data": {
      "text/plain": [
       "[('preist', 0.9061927795410156),\n",
       " ('priesti', 0.88130122423172),\n",
       " ('highland', 0.8745983839035034),\n",
       " ('highrolli', 0.8617181777954102),\n",
       " ('satellit', 0.8603441119194031),\n",
       " ('thief', 0.8562381267547607),\n",
       " ('razaku', 0.8540778756141663),\n",
       " ('bigspel', 0.851883053779602),\n",
       " ('entomb', 0.8506946563720703),\n",
       " ('nuke', 0.8497401475906372)]"
      ]
     },
     "execution_count": 91,
     "metadata": {},
     "output_type": "execute_result"
    }
   ],
   "source": [
    "model2.wv.most_similar_cosmul(positive=ps.stem(\"priest\"))"
   ]
  },
  {
   "cell_type": "code",
   "execution_count": 75,
   "metadata": {},
   "outputs": [
    {
     "data": {
      "text/plain": [
       "-0.15834862244966663"
      ]
     },
     "execution_count": 75,
     "metadata": {},
     "output_type": "execute_result"
    }
   ],
   "source": [
    "import math\n",
    "math.log(0.8535521626472473)"
   ]
  },
  {
   "cell_type": "code",
   "execution_count": 76,
   "metadata": {},
   "outputs": [
    {
     "data": {
      "text/plain": [
       "range(0, 12)"
      ]
     },
     "execution_count": 76,
     "metadata": {},
     "output_type": "execute_result"
    }
   ],
   "source": [
    "range(12)"
   ]
  },
  {
   "cell_type": "code",
   "execution_count": 83,
   "metadata": {},
   "outputs": [],
   "source": [
    "import pandas as pd\n",
    "www=pd.DataFrame(model2.wv.most_similar_cosmul(positive=ps.stem(\"priest\")),columns=['word','%'])"
   ]
  },
  {
   "cell_type": "code",
   "execution_count": 84,
   "metadata": {},
   "outputs": [
    {
     "data": {
      "text/html": [
       "<div>\n",
       "<style scoped>\n",
       "    .dataframe tbody tr th:only-of-type {\n",
       "        vertical-align: middle;\n",
       "    }\n",
       "\n",
       "    .dataframe tbody tr th {\n",
       "        vertical-align: top;\n",
       "    }\n",
       "\n",
       "    .dataframe thead th {\n",
       "        text-align: right;\n",
       "    }\n",
       "</style>\n",
       "<table border=\"1\" class=\"dataframe\">\n",
       "  <thead>\n",
       "    <tr style=\"text-align: right;\">\n",
       "      <th></th>\n",
       "      <th>word</th>\n",
       "      <th>%</th>\n",
       "    </tr>\n",
       "  </thead>\n",
       "  <tbody>\n",
       "    <tr>\n",
       "      <th>0</th>\n",
       "      <td>preist</td>\n",
       "      <td>0.912497</td>\n",
       "    </tr>\n",
       "    <tr>\n",
       "      <th>1</th>\n",
       "      <td>priesti</td>\n",
       "      <td>0.889232</td>\n",
       "    </tr>\n",
       "    <tr>\n",
       "      <th>2</th>\n",
       "      <td>highrolli</td>\n",
       "      <td>0.872450</td>\n",
       "    </tr>\n",
       "    <tr>\n",
       "      <th>3</th>\n",
       "      <td>highland</td>\n",
       "      <td>0.871879</td>\n",
       "    </tr>\n",
       "    <tr>\n",
       "      <th>4</th>\n",
       "      <td>satellit</td>\n",
       "      <td>0.870896</td>\n",
       "    </tr>\n",
       "    <tr>\n",
       "      <th>5</th>\n",
       "      <td>entomb</td>\n",
       "      <td>0.863967</td>\n",
       "    </tr>\n",
       "    <tr>\n",
       "      <th>6</th>\n",
       "      <td>razaku</td>\n",
       "      <td>0.861237</td>\n",
       "    </tr>\n",
       "    <tr>\n",
       "      <th>7</th>\n",
       "      <td>bigspel</td>\n",
       "      <td>0.858713</td>\n",
       "    </tr>\n",
       "    <tr>\n",
       "      <th>8</th>\n",
       "      <td>thief</td>\n",
       "      <td>0.857944</td>\n",
       "    </tr>\n",
       "    <tr>\n",
       "      <th>9</th>\n",
       "      <td>giantslock</td>\n",
       "      <td>0.854209</td>\n",
       "    </tr>\n",
       "  </tbody>\n",
       "</table>\n",
       "</div>"
      ],
      "text/plain": [
       "         word         %\n",
       "0      preist  0.912497\n",
       "1     priesti  0.889232\n",
       "2   highrolli  0.872450\n",
       "3    highland  0.871879\n",
       "4    satellit  0.870896\n",
       "5      entomb  0.863967\n",
       "6      razaku  0.861237\n",
       "7     bigspel  0.858713\n",
       "8       thief  0.857944\n",
       "9  giantslock  0.854209"
      ]
     },
     "execution_count": 84,
     "metadata": {},
     "output_type": "execute_result"
    }
   ],
   "source": [
    "www"
   ]
  },
  {
   "cell_type": "code",
   "execution_count": 92,
   "metadata": {},
   "outputs": [],
   "source": [
    "OUT=[]\n",
    "OUT.append(model2.wv.most_similar(positive=ps.stem(\"priest\")) )"
   ]
  },
  {
   "cell_type": "code",
   "execution_count": 93,
   "metadata": {},
   "outputs": [
    {
     "data": {
      "text/plain": [
       "[[('preist', 0.8123872876167297),\n",
       "  ('priesti', 0.7626041173934937),\n",
       "  ('highland', 0.7491984367370605),\n",
       "  ('highrolli', 0.723438024520874),\n",
       "  ('satellit', 0.7206898927688599),\n",
       "  ('thief', 0.71247798204422),\n",
       "  ('razaku', 0.7081574201583862),\n",
       "  ('bigspel', 0.7037677764892578),\n",
       "  ('entomb', 0.7013910412788391),\n",
       "  ('nuke', 0.6994820237159729)]]"
      ]
     },
     "execution_count": 93,
     "metadata": {},
     "output_type": "execute_result"
    }
   ],
   "source": [
    "OUT"
   ]
  },
  {
   "cell_type": "code",
   "execution_count": 96,
   "metadata": {},
   "outputs": [
    {
     "ename": "TypeError",
     "evalue": "'module' object is not callable",
     "output_type": "error",
     "traceback": [
      "\u001b[0;31m---------------------------------------------------------------------------\u001b[0m",
      "\u001b[0;31mTypeError\u001b[0m                                 Traceback (most recent call last)",
      "\u001b[0;32m<ipython-input-96-b39ac2250f35>\u001b[0m in \u001b[0;36m<module>\u001b[0;34m\u001b[0m\n\u001b[1;32m      1\u001b[0m \u001b[0;32mimport\u001b[0m \u001b[0mjson\u001b[0m\u001b[0;34m\u001b[0m\u001b[0;34m\u001b[0m\u001b[0m\n\u001b[0;32m----> 2\u001b[0;31m \u001b[0mAAA\u001b[0m\u001b[0;34m=\u001b[0m\u001b[0mjson\u001b[0m\u001b[0;34m(\u001b[0m\u001b[0;34m)\u001b[0m\u001b[0;34m\u001b[0m\u001b[0;34m\u001b[0m\u001b[0m\n\u001b[0m",
      "\u001b[0;31mTypeError\u001b[0m: 'module' object is not callable"
     ]
    }
   ],
   "source": [
    "import json \n",
    "AAA=json()"
   ]
  },
  {
   "cell_type": "code",
   "execution_count": null,
   "metadata": {},
   "outputs": [],
   "source": []
  }
 ],
 "metadata": {
  "kernelspec": {
   "display_name": "Python (comp4462)",
   "language": "python",
   "name": "comp4462"
  },
  "language_info": {
   "codemirror_mode": {
    "name": "ipython",
    "version": 3
   },
   "file_extension": ".py",
   "mimetype": "text/x-python",
   "name": "python",
   "nbconvert_exporter": "python",
   "pygments_lexer": "ipython3",
   "version": "3.6.8"
  }
 },
 "nbformat": 4,
 "nbformat_minor": 2
}
